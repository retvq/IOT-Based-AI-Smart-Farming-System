{
 "cells": [
  {
   "cell_type": "code",
   "execution_count": 32,
   "metadata": {},
   "outputs": [],
   "source": [
    "import numpy as np\n",
    "import pandas as pd\n",
    "import matplotlib.pyplot as plt\n",
    "%matplotlib inline"
   ]
  },
  {
   "cell_type": "code",
   "execution_count": 33,
   "metadata": {},
   "outputs": [],
   "source": [
    "da1 = pd.read_csv('/home/siddhant/Downloads/Ch Data 1.csv')\n",
    "da2 = pd.read_csv('/home/siddhant/Downloads/Ch Data 2.csv')\n",
    "da3 = pd.read_csv('/home/siddhant/Downloads/Ch Data 3.csv')"
   ]
  },
  {
   "cell_type": "code",
   "execution_count": 40,
   "metadata": {},
   "outputs": [
    {
     "data": {
      "text/plain": [
       "<matplotlib.axes._subplots.AxesSubplot at 0x7fe2b3c49a90>"
      ]
     },
     "execution_count": 40,
     "metadata": {},
     "output_type": "execute_result"
    },
    {
     "data": {
      "image/png": "[encoded data removed]",
      "text/plain": [
       "<Figure size 432x288 with 1 Axes>"
      ]
     },
     "metadata": {
      "needs_background": "light"
     },
     "output_type": "display_data"
    }
   ],
   "source": [
    "da1.plot('Age', ' Winter',style = '.')"
   ]
  },
  {
   "cell_type": "code",
   "execution_count": 68,
   "metadata": {},
   "outputs": [],
   "source": [
    "y1 = da1.iloc[:, 0:1].values \n",
    "X1 = da1.iloc[:, 1:2].values \n",
    "y2 = da2.iloc[:, 0:1].values \n",
    "X2 = da2.iloc[:, 1:2].values \n",
    "y3 = da3.iloc[:, 0:1].values \n",
    "X3 = da3.iloc[:, 1:2].values "
   ]
  },
  {
   "cell_type": "code",
   "execution_count": 74,
   "metadata": {},
   "outputs": [],
   "source": [
    "from sklearn.linear_model import LinearRegression \n",
    "lin1 = LinearRegression() \n",
    "lin2 = LinearRegression() \n",
    "lin3 = LinearRegression() "
   ]
  },
  {
   "cell_type": "code",
   "execution_count": 75,
   "metadata": {},
   "outputs": [
    {
     "data": {
      "text/plain": [
       "LinearRegression(copy_X=True, fit_intercept=True, n_jobs=1, normalize=False)"
      ]
     },
     "execution_count": 75,
     "metadata": {},
     "output_type": "execute_result"
    }
   ],
   "source": [
    "lin1.fit(X1, y1)\n",
    "lin2.fit(X2, y2)\n",
    "lin3.fit(X3, y3)"
   ]
  },
  {
   "cell_type": "code",
   "execution_count": 79,
   "metadata": {},
   "outputs": [
    {
     "data": {
      "image/png": "[encoded data removed]",
      "text/plain": [
       "<Figure size 432x288 with 1 Axes>"
      ]
     },
     "metadata": {
      "needs_background": "light"
     },
     "output_type": "display_data"
    }
   ],
   "source": [
    "# Visualising the Linear Regression results \n",
    "plt.scatter(X1, y1, color = 'blue') \n",
    "  \n",
    "plt.plot(X1, lin1.predict(X1), color = 'red') \n",
    "plt.title('Linear Regression') \n",
    "plt.xlabel('Chlorophyll Content in Winter') \n",
    "plt.ylabel('Age') \n",
    "  \n",
    "plt.show() "
   ]
  },
  {
   "cell_type": "code",
   "execution_count": 93,
   "metadata": {},
   "outputs": [
    {
     "name": "stdout",
     "output_type": "stream",
     "text": [
      "Enter the season in which the leaf is taken: \n",
      "Enter 1 for Winter, 2 for Early Spring, 3 for Late Spring\n"
     ]
    },
    {
     "name": "stdin",
     "output_type": "stream",
     "text": [
      " 1\n"
     ]
    }
   ],
   "source": [
    "print(\"Enter the season in which the leaf is taken: \")\n",
    "print(\"Enter 1 for Winter, 2 for Early Spring, 3 for Late Spring\")\n",
    "opt = int(input())"
   ]
  },
  {
   "cell_type": "code",
   "execution_count": 100,
   "metadata": {},
   "outputs": [
    {
     "name": "stdout",
     "output_type": "stream",
     "text": [
      "[[84.78450768]]\n"
     ]
    }
   ],
   "source": [
    "chloro_cont = 340\n",
    "if (opt == 1):\n",
    "    print(lin1.predict(chloro_cont))\n",
    "elif (opt == 2):\n",
    "    print(lin2.predict(chloro_cont))\n",
    "elif (opt == 3):\n",
    "    print(lin3.predict(chloro_cont))"
   ]
  },
  {
   "cell_type": "code",
   "execution_count": null,
   "metadata": {},
   "outputs": [],
   "source": []
  }
 ],
 "metadata": {
  "kernelspec": {
   "display_name": "Python 3",
   "language": "python",
   "name": "python3"
  },
  "language_info": {
   "codemirror_mode": {
    "name": "ipython",
    "version": 3
   },
   "file_extension": ".py",
   "mimetype": "text/x-python",
   "name": "python",
   "nbconvert_exporter": "python",
   "pygments_lexer": "ipython3",
   "version": "3.7.0"
  }
 },
 "nbformat": 4,
 "nbformat_minor": 2
}
